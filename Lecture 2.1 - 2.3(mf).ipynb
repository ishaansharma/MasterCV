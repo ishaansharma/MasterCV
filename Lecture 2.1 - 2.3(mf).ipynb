{
 "cells": [
  {
   "cell_type": "markdown",
   "metadata": {},
   "source": [
    "Lecture 2.1 - 2.3\n",
    "\n",
    "### Basics of Computer Vision and OpenCV\n",
    "#### What are images?\n",
    "Two dimensional representation of the visible light spectrum,\n",
    "only x-y dimension which corresponds to different pixel points in a computer or DPI in photographs. Reflects different wavelenghts of light part of the Electro Magnetic Spectrum. Each wavelenght represents a different color.\n",
    "\n",
    "#### Image Formation\n",
    "How are images formed?\n",
    "When light reflects off an object onto a film, sensor, or retina.\n",
    "Using a small opening called aperture we block off most of the rays of light reducing blurring on the film or sensor, which is the basis of the pinhole camera model which has its drawbacks.\n",
    "We control image formation with a Lens, both our eyes and cameras use an adaptive lens to control aspects of image formation such as aperture size (controls the amount of light allowed through & depth of field) and lens width adjust focus distance \n",
    "\n",
    "The human visual system (eye & visual cortex) is exceptionally good at image processing. We do it far better than any computer vision technique right now, our brains do this by using six layers of visual processing. \n",
    "Further reading: wikipedia.org/visual_system\n",
    "\n",
    "#### Storing images on computers\n",
    "OpenCV uses RBG color space by default. \n",
    "Each pixel coordinate (x, y) contains 3 values ranging for intensities of 0 to 255 (8bit). Mixing the different intensities of each color gives us the full color spectrum, f.ex yellow: red 255, green 255, blue 0. \n",
    "\n",
    "images are stored in multi-dimensional arrays.\n",
    "one dimensional arrays look like a single line column with 0-8\n",
    "two dimensional arrays like like tree columns from 0-8, 0-3\n",
    "three dimensional arrays look like a two dimensional arrays with layers of stacks behind them.\n",
    "Each cell is identified by tree numbers, green = 0,1 1. This is how rgb images are stored in arrays in opencv.\n",
    "\n",
    "Black & White and Grayscale images are stored in 2D arrays. Darker colors are represented by lower values. Binary values represents black & white 0 & 255 respectivily.\n",
    "\n",
    "#### Getting Started with OpenCV: reading, writing and displaying images\n",
    "OpenCV launched 1999 from an Intel initiative, written in C++. \n",
    "Bindings for python etc. slows down opencvs operation, use C++ for Speed. \n",
    "Using python lets us use numpy for data arrays. \n",
    "60% of researchers use 2.4.13\n",
    "SIFT & Surf removed in opencv 3\n",
    "\n"
   ]
  }
 ],
 "metadata": {
  "kernelspec": {
   "display_name": "Python 3",
   "language": "python",
   "name": "python3"
  },
  "language_info": {
   "codemirror_mode": {
    "name": "ipython",
    "version": 3
   },
   "file_extension": ".py",
   "mimetype": "text/x-python",
   "name": "python",
   "nbconvert_exporter": "python",
   "pygments_lexer": "ipython3",
   "version": "3.6.3"
  }
 },
 "nbformat": 4,
 "nbformat_minor": 2
}
